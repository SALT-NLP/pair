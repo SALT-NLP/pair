{
 "cells": [
  {
   "cell_type": "code",
   "execution_count": 1,
   "id": "b67c6e81",
   "metadata": {},
   "outputs": [],
   "source": [
    "from src.metrics.duo import Duo, get_relevant_corpus, get_relevant_corpus_retrieved, get_relevant_ranking\n",
    "from src.utils import load_wiki_balance\n",
    "from beir.retrieval.search.dense import DenseRetrievalExactSearch as DRES\n",
    "from beir.retrieval.models import SentenceBERT\n",
    "from beir.retrieval.evaluation import EvaluateRetrieval"
   ]
  },
  {
   "cell_type": "code",
   "execution_count": 3,
   "id": "0d2e342e",
   "metadata": {},
   "outputs": [],
   "source": [
    "# ----- RETRIEVAL -----\n",
    "## load the WikiBias_Natural retrieval corpus\n",
    "corpus, queries, qrels = load_wiki_balance(subset='natural')\n",
    "## load an IR model from BEIR\n",
    "retriever = EvaluateRetrieval(DRES(SentenceBERT(\"msmarco-distilbert-base-tas-b\"), batch_size=16))\n",
    "## retrieve documents\n",
    "retrieved = retriever.retrieve(corpus, queries)"
   ]
  },
  {
   "cell_type": "code",
   "execution_count": 5,
   "id": "fa804c1b",
   "metadata": {},
   "outputs": [
    {
     "name": "stdout",
     "output_type": "stream",
     "text": [
      "0.5516529669234735\n"
     ]
    }
   ],
   "source": [
    "from src.metrics.duo import Duo, get_relevant_corpus, get_relevant_corpus_retrieved, get_relevant_ranking\n",
    "# ----- INDEXICAL BIAS EVALUATION -----\n",
    "## initialize the metric \n",
    "d = Duo(embedding_model=\"sentence-t5-xl\", step_size=1, random_state=7)\n",
    "\n",
    "## load the synthetic corpus for fitting the Duo metric\n",
    "fit_corpus, fit_queries, fit_qrels = load_wiki_balance(subset='synthetic')\n",
    "\n",
    "## evaluate on the first query\n",
    "query_idx = list(retrieved.keys())[0]\n",
    "\n",
    "## embed documents to polarization scores\n",
    "d.embed(transform_docs=get_relevant_corpus_retrieved(corpus, retrieved, query_idx, qrels), \n",
    "        fit_docs=get_relevant_corpus(fit_corpus, query_idx, fit_qrels),\n",
    "       )\n",
    "\n",
    "# compute DUO score\n",
    "duo_score = d.Duo(ranking=get_relevant_ranking(retrieved, query_idx, qrels))\n",
    "print(duo_score)"
   ]
  }
 ],
 "metadata": {
  "kernelspec": {
   "display_name": "Python 3 (ipykernel)",
   "language": "python",
   "name": "python3"
  },
  "language_info": {
   "codemirror_mode": {
    "name": "ipython",
    "version": 3
   },
   "file_extension": ".py",
   "mimetype": "text/x-python",
   "name": "python",
   "nbconvert_exporter": "python",
   "pygments_lexer": "ipython3",
   "version": "3.9.16"
  }
 },
 "nbformat": 4,
 "nbformat_minor": 5
}
